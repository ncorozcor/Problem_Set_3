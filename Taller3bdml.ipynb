{
 "cells": [
  {
   "cell_type": "code",
   "execution_count": 3,
   "id": "8a25200f",
   "metadata": {
    "tags": []
   },
   "outputs": [],
   "source": [
    "import tensorflow as tf\n",
    "import pandas as pd\n",
    "import numpy as np"
   ]
  },
  {
   "cell_type": "markdown",
   "id": "fa213253",
   "metadata": {},
   "source": [
    "# Bases de datos"
   ]
  },
  {
   "cell_type": "code",
   "execution_count": 4,
   "id": "bc233464",
   "metadata": {
    "tags": []
   },
   "outputs": [],
   "source": [
    "train_hogares = pd.read_csv(r'C:\\Users\\JORGE\\Documents\\uniandes-bdml-202320-ps3\\train_hogares.csv')\n",
    "train_personas = pd.read_csv(r'C:\\Users\\JORGE\\Documents\\uniandes-bdml-202320-ps3\\train_personas.csv') \n",
    "test_hogares = pd.read_csv(r'C:\\Users\\JORGE\\Documents\\uniandes-bdml-202320-ps3\\test_hogares.csv')\n",
    "test_personas = pd.read_csv(r'C:\\Users\\JORGE\\Documents\\uniandes-bdml-202320-ps3\\test_personas.csv') "
   ]
  },
  {
   "cell_type": "markdown",
   "id": "4da66f00",
   "metadata": {},
   "source": [
    "# Feature selection"
   ]
  },
  {
   "cell_type": "markdown",
   "id": "194ec1e1-cf1e-42b2-a585-33e3618e7722",
   "metadata": {
    "tags": []
   },
   "source": [
    "# limpieza"
   ]
  },
  {
   "cell_type": "code",
   "execution_count": 5,
   "id": "06488555-c330-418c-8df1-8e5396c67213",
   "metadata": {
    "tags": []
   },
   "outputs": [],
   "source": [
    "train_personas['P6020']=train_personas['P6020'].replace({2:0})\n",
    "train_personas['P6090']=train_personas['P6090'].replace({2:0,9:0,np.nan:0})\n",
    "train_personas['P6510']=train_personas['P6510'].replace({2:0,9:0,np.nan:0})\n",
    "train_personas['P6545']=train_personas['P6545'].replace({2:0,9:0,np.nan:0})\n",
    "train_personas['P6580']=train_personas['P6580'].replace({2:0,9:0,np.nan:0})\n",
    "train_personas['P6800']=train_personas['P6800'].replace({np.nan:0})\n",
    "train_personas['P7040']=train_personas['P7040'].replace({2:0,9:0,np.nan:0})\n",
    "train_personas['P7495']=train_personas['P7495'].replace({2:0,9:0,np.nan:0})\n",
    "train_personas['Pet']=train_personas['Pet'].replace({np.nan:0})\n",
    "train_personas['P6426']=train_personas['P6426'].replace({np.nan:0})\n",
    "\n"
   ]
  },
  {
   "cell_type": "code",
   "execution_count": 6,
   "id": "e1bf31a7-9d0b-45fc-875f-b1ccc4889821",
   "metadata": {
    "tags": []
   },
   "outputs": [],
   "source": [
    "test_personas['P6020']=test_personas['P6020'].replace({2:0})\n",
    "test_personas['P6090']=test_personas['P6090'].replace({2:0,9:0,np.nan:0})\n",
    "test_personas['P6510']=test_personas['P6510'].replace({2:0,9:0,np.nan:0})\n",
    "test_personas['P6545']=test_personas['P6545'].replace({2:0,9:0,np.nan:0})\n",
    "test_personas['P6580']=test_personas['P6580'].replace({2:0,9:0,np.nan:0})\n",
    "test_personas['P6800']=test_personas['P6800'].replace({np.nan:0})\n",
    "test_personas['P7040']=test_personas['P7040'].replace({2:0,9:0,np.nan:0})\n",
    "test_personas['P7495']=test_personas['P7495'].replace({2:0,9:0,np.nan:0})\n",
    "test_personas['Pet']=test_personas['Pet'].replace({np.nan:0})\n",
    "test_personas['P6426']=test_personas['P6426'].replace({np.nan:0})"
   ]
  },
  {
   "cell_type": "markdown",
   "id": "ef9ff72e-aaad-4d15-b9fa-f71ee884a77a",
   "metadata": {
    "tags": []
   },
   "source": [
    "## Crear Dummies"
   ]
  },
  {
   "cell_type": "markdown",
   "id": "23beff1a-3e12-4c12-9335-a530452b8c6c",
   "metadata": {
    "tags": []
   },
   "source": [
    "### Afiliados\n"
   ]
  },
  {
   "cell_type": "code",
   "execution_count": 7,
   "id": "6eb852fb-5553-4d1e-a113-9c7e46cce225",
   "metadata": {
    "tags": []
   },
   "outputs": [],
   "source": [
    "afiliados_contributivo = []\n",
    "afiliados_especial = []\n",
    "afiliados_subsidiado = []\n",
    "for i in range(len(train_personas)):\n",
    "    if train_personas['P6100'][i]==1:\n",
    "        afiliados_contributivo.append(1)\n",
    "        afiliados_especial.append(0)\n",
    "        afiliados_subsidiado.append(0)\n",
    "    elif train_personas['P6100'][i]==2:\n",
    "        afiliados_contributivo.append(0)\n",
    "        afiliados_especial.append(1)\n",
    "        afiliados_subsidiado.append(0)\n",
    "    elif train_personas['P6100'][i]==3:\n",
    "        afiliados_contributivo.append(0)\n",
    "        afiliados_especial.append(0)\n",
    "        afiliados_subsidiado.append(1)\n",
    "    else:\n",
    "        afiliados_contributivo.append(0)\n",
    "        afiliados_especial.append(0)\n",
    "        afiliados_subsidiado.append(0)\n",
    "train_personas['afiliados_contributivo'] = afiliados_contributivo\n",
    "train_personas['afiliados_especial'] = afiliados_especial\n",
    "train_personas['afiliados_subsidiado'] = afiliados_subsidiado"
   ]
  },
  {
   "cell_type": "code",
   "execution_count": 8,
   "id": "d58f48ba-0db0-4c02-a511-31e8f88f15cc",
   "metadata": {
    "tags": []
   },
   "outputs": [],
   "source": [
    "afiliados_contributivo = []\n",
    "afiliados_especial = []\n",
    "afiliados_subsidiado = []\n",
    "for i in range(len(test_personas)):\n",
    "    if test_personas['P6100'][i]==1:\n",
    "        afiliados_contributivo.append(1)\n",
    "        afiliados_especial.append(0)\n",
    "        afiliados_subsidiado.append(0)\n",
    "    elif test_personas['P6100'][i]==2:\n",
    "        afiliados_contributivo.append(0)\n",
    "        afiliados_especial.append(1)\n",
    "        afiliados_subsidiado.append(0)\n",
    "    elif test_personas['P6100'][i]==3:\n",
    "        afiliados_contributivo.append(0)\n",
    "        afiliados_especial.append(0)\n",
    "        afiliados_subsidiado.append(1)\n",
    "    else:\n",
    "        afiliados_contributivo.append(0)\n",
    "        afiliados_especial.append(0)\n",
    "        afiliados_subsidiado.append(0)\n",
    "test_personas['afiliados_contributivo'] = afiliados_contributivo\n",
    "test_personas['afiliados_especial'] = afiliados_especial\n",
    "test_personas['afiliados_subsidiado'] = afiliados_subsidiado"
   ]
  },
  {
   "cell_type": "markdown",
   "id": "1beed1b8-d18c-482f-9ec7-7118611cff24",
   "metadata": {
    "tags": []
   },
   "source": [
    "### Años de estudio"
   ]
  },
  {
   "cell_type": "code",
   "execution_count": 9,
   "id": "9d5e28e6-a6aa-4d69-96c5-b1943b2e7ed0",
   "metadata": {
    "tags": []
   },
   "outputs": [],
   "source": [
    "max_preescolar = []\n",
    "max_primaria = []\n",
    "max_secundaria = []\n",
    "max_universidad = []\n",
    "for i in range(len(train_personas)):\n",
    "    if train_personas['P6210'][i]==2:\n",
    "        max_preescolar.append(1)\n",
    "        max_primaria.append(0)\n",
    "        max_secundaria.append(0)\n",
    "        max_universidad.append(0)\n",
    "    elif train_personas['P6210'][i]==3:\n",
    "        max_preescolar.append(0)\n",
    "        max_primaria.append(1)\n",
    "        max_secundaria.append(0)\n",
    "        max_universidad.append(0)\n",
    "    elif train_personas['P6210'][i]==4:\n",
    "        max_preescolar.append(0)\n",
    "        max_primaria.append(0)\n",
    "        max_secundaria.append(1)\n",
    "        max_universidad.append(0)\n",
    "    elif train_personas['P6210'][i]==5:\n",
    "        max_preescolar.append(0)\n",
    "        max_primaria.append(0)\n",
    "        max_secundaria.append(1)\n",
    "        max_universidad.append(0)\n",
    "    elif train_personas['P6210'][i]==6:\n",
    "        max_preescolar.append(0)\n",
    "        max_primaria.append(0)\n",
    "        max_secundaria.append(0)\n",
    "        max_universidad.append(1)\n",
    "    else:\n",
    "        max_preescolar.append(0)\n",
    "        max_primaria.append(0)\n",
    "        max_secundaria.append(0)\n",
    "        max_universidad.append(0)\n",
    "train_personas['max_preescolar']=max_preescolar\n",
    "train_personas['max_primaria']=max_primaria\n",
    "train_personas['max_secundaria']=max_secundaria\n",
    "train_personas['max_universidad']=max_universidad"
   ]
  },
  {
   "cell_type": "code",
   "execution_count": 10,
   "id": "ca3378e2-141c-4d36-a691-9254cf357f3e",
   "metadata": {
    "tags": []
   },
   "outputs": [],
   "source": [
    "max_preescolar = []\n",
    "max_primaria = []\n",
    "max_secundaria = []\n",
    "max_universidad = []\n",
    "for i in range(len(test_personas)):\n",
    "    if test_personas['P6210'][i]==2:\n",
    "        max_preescolar.append(1)\n",
    "        max_primaria.append(0)\n",
    "        max_secundaria.append(0)\n",
    "        max_universidad.append(0)\n",
    "    elif test_personas['P6210'][i]==3:\n",
    "        max_preescolar.append(0)\n",
    "        max_primaria.append(1)\n",
    "        max_secundaria.append(0)\n",
    "        max_universidad.append(0)\n",
    "    elif test_personas['P6210'][i]==4:\n",
    "        max_preescolar.append(0)\n",
    "        max_primaria.append(0)\n",
    "        max_secundaria.append(1)\n",
    "        max_universidad.append(0)\n",
    "    elif test_personas['P6210'][i]==5:\n",
    "        max_preescolar.append(0)\n",
    "        max_primaria.append(0)\n",
    "        max_secundaria.append(1)\n",
    "        max_universidad.append(0)\n",
    "    elif test_personas['P6210'][i]==6:\n",
    "        max_preescolar.append(0)\n",
    "        max_primaria.append(0)\n",
    "        max_secundaria.append(0)\n",
    "        max_universidad.append(1)\n",
    "    else:\n",
    "        max_preescolar.append(0)\n",
    "        max_primaria.append(0)\n",
    "        max_secundaria.append(0)\n",
    "        max_universidad.append(0)\n",
    "test_personas['max_preescolar']=max_preescolar\n",
    "test_personas['max_primaria']=max_primaria\n",
    "test_personas['max_secundaria']=max_secundaria\n",
    "test_personas['max_universidad']=max_universidad"
   ]
  },
  {
   "cell_type": "markdown",
   "id": "7c60a379-1616-4cc0-ab61-adb97a22e9a5",
   "metadata": {
    "tags": []
   },
   "source": [
    "### cotizantes y pensionados"
   ]
  },
  {
   "cell_type": "code",
   "execution_count": 11,
   "id": "157b1cd6-beb1-4f4a-adb5-15cdfe9fabcb",
   "metadata": {
    "tags": []
   },
   "outputs": [],
   "source": [
    "cotizantes = []\n",
    "nocotizantes = []\n",
    "pensionados = []\n",
    "for i in range(len(train_personas)):\n",
    "    if train_personas['P6920'][i]==1:\n",
    "        cotizantes.append(1)\n",
    "        nocotizantes.append(0)\n",
    "        pensionados.append(0)\n",
    "    elif train_personas['P6920'][i]==2:\n",
    "        cotizantes.append(0)\n",
    "        nocotizantes.append(1)\n",
    "        pensionados.append(0)\n",
    "    elif train_personas['P6920'][i]==3:\n",
    "        cotizantes.append(0)\n",
    "        nocotizantes.append(0)\n",
    "        pensionados.append(1)\n",
    "    else:\n",
    "        cotizantes.append(0)\n",
    "        nocotizantes.append(1)\n",
    "        pensionados.append(0)\n",
    "train_personas['cotizantes'] = cotizantes\n",
    "train_personas['nocotizantes'] = nocotizantes\n",
    "train_personas['pensionados'] = pensionados"
   ]
  },
  {
   "cell_type": "code",
   "execution_count": 12,
   "id": "50c3ab2f-43af-4f0c-976d-8c4724997ab2",
   "metadata": {
    "tags": []
   },
   "outputs": [],
   "source": [
    "cotizantes = []\n",
    "nocotizantes = []\n",
    "pensionados = []\n",
    "for i in range(len(test_personas)):\n",
    "    if test_personas['P6920'][i]==1:\n",
    "        cotizantes.append(1)\n",
    "        nocotizantes.append(0)\n",
    "        pensionados.append(0)\n",
    "    elif test_personas['P6920'][i]==2:\n",
    "        cotizantes.append(0)\n",
    "        nocotizantes.append(1)\n",
    "        pensionados.append(0)\n",
    "    elif test_personas['P6920'][i]==3:\n",
    "        cotizantes.append(0)\n",
    "        nocotizantes.append(0)\n",
    "        pensionados.append(1)\n",
    "    else:\n",
    "        cotizantes.append(0)\n",
    "        nocotizantes.append(1)\n",
    "        pensionados.append(0)\n",
    "test_personas['cotizantes'] = cotizantes\n",
    "test_personas['nocotizantes'] = nocotizantes\n",
    "test_personas['pensionados'] = pensionados"
   ]
  },
  {
   "cell_type": "markdown",
   "id": "f9d81d35-d73e-4d15-8fd7-d666b3085f5b",
   "metadata": {
    "tags": []
   },
   "source": [
    "## Elegir variables para hacer groupby\n",
    "con el fin de aumentar los datos de la base de hogares, se va a sacar la suma y el promedio de las siguientes variables para posteriarmente mezclar estas bases con la base de hogares tanto train como test."
   ]
  },
  {
   "cell_type": "code",
   "execution_count": 13,
   "id": "ca871c9d",
   "metadata": {
    "tags": []
   },
   "outputs": [],
   "source": [
    "train_personas_media = train_personas[['id','P6040','P6426']]\n",
    "# cambiar sexo(snumero) a categorica para crear una dummie\n",
    "train_personas_media.columns = ['id','promedio_edad','promedio_experiencia_laboral_ultimo_empleo']\n",
    "train_personas_suma = train_personas[['id','P6020','P6090','P6210','P6426','P6430','P6510','P6545','P6580','P6800','P6920','P7040','P7495','Pet','afiliados_contributivo','afiliados_especial','afiliados_subsidiado','max_preescolar','max_primaria','max_secundaria','max_universidad','cotizantes','nocotizantes','pensionados']]\n",
    "train_personas_suma.columns = ['id','numero_hombres','suma_edades','numero_graduados','suma_experiencia_laboral_ultimo_empleo_hogar','#_empleados_en','integrantes_con_horas_extra','integrantes_con_prima','integrantes_con_bonificaciones','horas_trabajadas_hogar','numero_dee','integrantes_fuente_extra_ingresos','integrantes_con_pago_arriendo/pension','integrantes_edad_trabajar','afiliados_contributivo','afiliados_especial','afiliados_subsidiado','max_preescolar','max_primaria','max_secundaria','max_universidad','cotizantes','nocotizantes','pensionados']"
   ]
  },
  {
   "cell_type": "code",
   "execution_count": 14,
   "id": "2c1fa74f-f2fa-4adc-8a86-b4f84594325a",
   "metadata": {
    "tags": []
   },
   "outputs": [],
   "source": [
    "test_personas_media = test_personas[['id','P6040','P6426']]\n",
    "test_personas_media.columns = ['id','promedio_edad','promedio_experiencia_laboral_ultimo_empleo']\n",
    "test_personas_suma = test_personas[['id','P6020','P6090','P6210','P6426','P6430','P6510','P6545','P6580','P6800','P6920','P7040','P7495','Pet','afiliados_contributivo','afiliados_especial','afiliados_subsidiado','max_preescolar','max_primaria','max_secundaria','max_universidad','cotizantes','nocotizantes','pensionados']]\n",
    "test_personas_suma.columns = ['id','numero_hombres','suma_edades','numero_graduados','suma_experiencia_laboral_ultimo_empleo_hogar','#_empleados_en','integrantes_con_horas_extra','integrantes_con_prima','integrantes_con_bonificaciones','horas_trabajadas_hogar','numero_dee','integrantes_fuente_extra_ingresos','integrantes_con_pago_arriendo/pension','integrantes_edad_trabajar','afiliados_contributivo','afiliados_especial','afiliados_subsidiado','max_preescolar','max_primaria','max_secundaria','max_universidad','cotizantes','nocotizantes','pensionados']\n"
   ]
  },
  {
   "cell_type": "markdown",
   "id": "70d51ad5-c412-4a3a-b3c3-962cedae8e3f",
   "metadata": {
    "tags": []
   },
   "source": [
    "## groupby media"
   ]
  },
  {
   "cell_type": "code",
   "execution_count": 15,
   "id": "9650a2c7-702e-4d1d-ad21-00c98eb39747",
   "metadata": {
    "tags": []
   },
   "outputs": [],
   "source": [
    "train_personas_media = train_personas_media.groupby('id').mean()\n",
    "test_personas_media = test_personas_media.groupby('id').mean()"
   ]
  },
  {
   "cell_type": "markdown",
   "id": "4a24117a-5fab-4924-ac31-b08f45e9a057",
   "metadata": {
    "tags": []
   },
   "source": [
    "## groupby suma"
   ]
  },
  {
   "cell_type": "code",
   "execution_count": 16,
   "id": "6111672d-84ae-4352-8036-979ef6cecc0e",
   "metadata": {
    "tags": []
   },
   "outputs": [],
   "source": [
    "train_personas_suma = train_personas_suma.groupby('id').sum()\n",
    "test_personas_suma = test_personas_suma.groupby('id').sum()"
   ]
  },
  {
   "cell_type": "code",
   "execution_count": 17,
   "id": "44333d8e-f83f-4c06-9e00-d83ef0587150",
   "metadata": {
    "tags": []
   },
   "outputs": [],
   "source": [
    "train_agrupado_final = pd.merge(train_personas_media,train_personas_suma, left_on=train_personas_media.index,right_on=train_personas_suma.index)\n",
    "test_agrupado_final = pd.merge(test_personas_media,test_personas_suma, left_on=test_personas_media.index,right_on=test_personas_suma.index)"
   ]
  },
  {
   "cell_type": "code",
   "execution_count": 18,
   "id": "96858914-2d43-449f-aa18-b96def33621b",
   "metadata": {
    "tags": []
   },
   "outputs": [],
   "source": [
    "train_agrupado_final = train_agrupado_final.rename({'key_0':'id'}, axis=1)\n",
    "test_agrupado_final = test_agrupado_final.rename({'key_0':'id'}, axis=1)"
   ]
  },
  {
   "cell_type": "markdown",
   "id": "fe7a0b07-0c02-4551-bfb0-c8307d4c6cb2",
   "metadata": {
    "tags": []
   },
   "source": [
    "# Merge con la base de hogares"
   ]
  },
  {
   "cell_type": "code",
   "execution_count": 19,
   "id": "fb00d439-169c-4b92-b66c-1340957e71ee",
   "metadata": {
    "tags": []
   },
   "outputs": [],
   "source": [
    "train_hogares2=pd.merge(train_agrupado_final,train_hogares, on='id')\n",
    "test_hogares2=pd.merge(test_agrupado_final,test_hogares, on='id')"
   ]
  },
  {
   "cell_type": "code",
   "execution_count": 25,
   "id": "7f29b0d9",
   "metadata": {},
   "outputs": [],
   "source": [
    "train_hogares2.to_csv(r'C:\\Users\\JORGE\\Documents\\uniandes-bdml-202320-ps3\\train_mejor_rf.csv')\n",
    "test_hogares2.to_csv(r'C:\\Users\\JORGE\\Documents\\uniandes-bdml-202320-ps3\\test_mejor_rf.csv')"
   ]
  },
  {
   "cell_type": "code",
   "execution_count": 20,
   "id": "ca940c1b-539d-4177-9458-1553843afdf7",
   "metadata": {
    "tags": []
   },
   "outputs": [],
   "source": [
    "train_hogares_drop = train_hogares2.drop(['id','Fex_c', 'Depto','Dominio', 'Fex_dpto','Ingtotug', 'Ingtotugarr', 'Ingpcug','Indigente','Npobres','Nindigentes','P5130','P5140','P5100'], axis=1)\n",
    "test_hogares_drop = test_hogares2.drop(['id','Fex_c', 'Depto', 'Fex_dpto','Dominio','P5130','P5140','P5100'], axis=1)"
   ]
  },
  {
   "cell_type": "markdown",
   "id": "36d45f63-0684-45b5-a117-be8fe596ad25",
   "metadata": {
    "tags": []
   },
   "source": [
    "# Modelos"
   ]
  },
  {
   "cell_type": "code",
   "execution_count": 63,
   "id": "60918bc3-8a78-4ce7-8da3-d2b9fecd9e26",
   "metadata": {
    "tags": []
   },
   "outputs": [],
   "source": [
    "X_train = train_hogares_drop.drop('Pobre',axis=1).values\n",
    "y_train = train_hogares_drop['Pobre'].values"
   ]
  },
  {
   "cell_type": "code",
   "execution_count": null,
   "id": "3c3db4ef-676c-4d51-9412-b328d27d7759",
   "metadata": {},
   "outputs": [],
   "source": [
    "# Random forest classifier"
   ]
  },
  {
   "cell_type": "code",
   "execution_count": 28,
   "id": "b6154f93-f745-4ea1-b9f9-291ab3a8e34a",
   "metadata": {
    "tags": []
   },
   "outputs": [],
   "source": [
    "from sklearn.ensemble import RandomForestClassifier"
   ]
  },
  {
   "cell_type": "code",
   "execution_count": 64,
   "id": "d5b099e1-9ffa-4b5b-bbc4-8e3b86df53d0",
   "metadata": {
    "tags": []
   },
   "outputs": [
    {
     "name": "stderr",
     "output_type": "stream",
     "text": [
      "C:\\Users\\JORGE\\anaconda3\\Lib\\site-packages\\sklearn\\base.py:457: UserWarning: X has feature names, but RandomForestClassifier was fitted without feature names\n",
      "  warnings.warn(\n"
     ]
    }
   ],
   "source": [
    "# Use the random grid to search for best hyperparameters\n",
    "# First create the base model to tune\n",
    "rf = RandomForestClassifier(max_depth=10)\n",
    "rf.fit(X_train,y_train)\n",
    "predicciones = rf.predict(test_hogares_drop)"
   ]
  },
  {
   "cell_type": "code",
   "execution_count": 31,
   "id": "50bb050a",
   "metadata": {},
   "outputs": [],
   "source": [
    "import matplotlib.pyplot as plt"
   ]
  },
  {
   "cell_type": "code",
   "execution_count": 65,
   "id": "de529067",
   "metadata": {},
   "outputs": [
    {
     "data": {
      "text/plain": [
       "Text(0.5, 1.0, 'Preidcciones Random Forest')"
      ]
     },
     "execution_count": 65,
     "metadata": {},
     "output_type": "execute_result"
    },
    {
     "data": {
      "image/png": "[encoded data removed]",
      "text/plain": [
       "<Figure size 200x200 with 1 Axes>"
      ]
     },
     "metadata": {},
     "output_type": "display_data"
    }
   ],
   "source": [
    "fig = plt.figure(figsize=(2,2))\n",
    "plt.hist(predicciones)\n",
    "plt.title('Preidcciones Random Forest')"
   ]
  },
  {
   "cell_type": "code",
   "execution_count": 66,
   "id": "402a0c41",
   "metadata": {},
   "outputs": [
    {
     "data": {
      "text/html": [
       "<div>\n",
       "<style scoped>\n",
       "    .dataframe tbody tr th:only-of-type {\n",
       "        vertical-align: middle;\n",
       "    }\n",
       "\n",
       "    .dataframe tbody tr th {\n",
       "        vertical-align: top;\n",
       "    }\n",
       "\n",
       "    .dataframe thead th {\n",
       "        text-align: right;\n",
       "    }\n",
       "</style>\n",
       "<table border=\"1\" class=\"dataframe\">\n",
       "  <thead>\n",
       "    <tr style=\"text-align: right;\">\n",
       "      <th></th>\n",
       "      <th>pobre</th>\n",
       "    </tr>\n",
       "    <tr>\n",
       "      <th>id</th>\n",
       "      <th></th>\n",
       "    </tr>\n",
       "  </thead>\n",
       "  <tbody>\n",
       "    <tr>\n",
       "      <th>00007322a7918c7799e7a514</th>\n",
       "      <td>0</td>\n",
       "    </tr>\n",
       "    <tr>\n",
       "      <th>0004847804c0618d4633b196</th>\n",
       "      <td>0</td>\n",
       "    </tr>\n",
       "    <tr>\n",
       "      <th>0004add76858a3b0cc39eb9b</th>\n",
       "      <td>0</td>\n",
       "    </tr>\n",
       "    <tr>\n",
       "      <th>000804ac64d779b35ee5edfa</th>\n",
       "      <td>0</td>\n",
       "    </tr>\n",
       "    <tr>\n",
       "      <th>000b6a116b7f95b043a6e77b</th>\n",
       "      <td>0</td>\n",
       "    </tr>\n",
       "    <tr>\n",
       "      <th>...</th>\n",
       "      <td>...</td>\n",
       "    </tr>\n",
       "    <tr>\n",
       "      <th>fff937c57942f839f144183f</th>\n",
       "      <td>1</td>\n",
       "    </tr>\n",
       "    <tr>\n",
       "      <th>fffb951f761dfc6ee518a862</th>\n",
       "      <td>0</td>\n",
       "    </tr>\n",
       "    <tr>\n",
       "      <th>fffb97493bad434012c34ff2</th>\n",
       "      <td>0</td>\n",
       "    </tr>\n",
       "    <tr>\n",
       "      <th>fffe1f02fa2758a80522d514</th>\n",
       "      <td>1</td>\n",
       "    </tr>\n",
       "    <tr>\n",
       "      <th>ffffd05852760b7f8823f298</th>\n",
       "      <td>0</td>\n",
       "    </tr>\n",
       "  </tbody>\n",
       "</table>\n",
       "<p>66168 rows × 1 columns</p>\n",
       "</div>"
      ],
      "text/plain": [
       "                          pobre\n",
       "id                             \n",
       "00007322a7918c7799e7a514      0\n",
       "0004847804c0618d4633b196      0\n",
       "0004add76858a3b0cc39eb9b      0\n",
       "000804ac64d779b35ee5edfa      0\n",
       "000b6a116b7f95b043a6e77b      0\n",
       "...                         ...\n",
       "fff937c57942f839f144183f      1\n",
       "fffb951f761dfc6ee518a862      0\n",
       "fffb97493bad434012c34ff2      0\n",
       "fffe1f02fa2758a80522d514      1\n",
       "ffffd05852760b7f8823f298      0\n",
       "\n",
       "[66168 rows x 1 columns]"
      ]
     },
     "execution_count": 66,
     "metadata": {},
     "output_type": "execute_result"
    }
   ],
   "source": [
    "predict = pd.DataFrame()\n",
    "predict['id'] = test_hogares2['id']\n",
    "predict['pobre'] = predicciones\n",
    "predict.set_index('id',inplace=True)\n",
    "predict"
   ]
  },
  {
   "cell_type": "code",
   "execution_count": 100,
   "id": "c6c98ef8",
   "metadata": {},
   "outputs": [],
   "source": [
    "predict.to_csv(r'C:\\Users\\JORGE\\Documents\\uniandes-bdml-202320-ps3\\randomfores_classification.csv')"
   ]
  },
  {
   "cell_type": "code",
   "execution_count": 67,
   "id": "96bb1d2a",
   "metadata": {},
   "outputs": [
    {
     "data": {
      "text/plain": [
       "0    56669\n",
       "1     9499\n",
       "Name: pobre, dtype: int64"
      ]
     },
     "execution_count": 67,
     "metadata": {},
     "output_type": "execute_result"
    }
   ],
   "source": [
    "predict['pobre'].value_counts()"
   ]
  },
  {
   "cell_type": "markdown",
   "id": "efb1b2fe",
   "metadata": {},
   "source": [
    "## Regresiones"
   ]
  },
  {
   "cell_type": "code",
   "execution_count": 72,
   "id": "6b8e9a69",
   "metadata": {},
   "outputs": [],
   "source": [
    "train_hogares_drop_reg = train_hogares2.drop(['Pobre','id','Fex_c', 'Depto','Dominio', 'Fex_dpto','Ingtotug', 'Ingtotugarr','Indigente','Npobres','Nindigentes','P5130','P5140','P5100'], axis=1)\n",
    "test_hogares_drop_reg = test_hogares2.drop(['id','Fex_c', 'Depto', 'Fex_dpto','Dominio','P5130','P5140','P5100'], axis=1)"
   ]
  },
  {
   "cell_type": "code",
   "execution_count": 73,
   "id": "643ad7f9",
   "metadata": {},
   "outputs": [],
   "source": [
    "X_train = train_hogares_drop_reg.drop('Ingpcug',axis=1)\n",
    "y_train = train_hogares_drop_reg['Ingpcug']"
   ]
  },
  {
   "cell_type": "code",
   "execution_count": 47,
   "id": "7e8cc79f",
   "metadata": {},
   "outputs": [],
   "source": [
    "from sklearn.ensemble import RandomForestRegressor"
   ]
  },
  {
   "cell_type": "code",
   "execution_count": 74,
   "id": "2d3cc0df",
   "metadata": {},
   "outputs": [],
   "source": [
    "rf = RandomForestRegressor(max_depth=10)\n",
    "rf.fit(X_train,y_train)\n",
    "predicciones = rf.predict(test_hogares_drop_reg)"
   ]
  },
  {
   "cell_type": "code",
   "execution_count": 54,
   "id": "15282082",
   "metadata": {},
   "outputs": [
    {
     "data": {
      "text/plain": [
       "Text(0.5, 1.0, 'Predicciones de salario RandomForest')"
      ]
     },
     "execution_count": 54,
     "metadata": {},
     "output_type": "execute_result"
    },
    {
     "data": {
      "image/png": "[encoded data removed]",
      "text/plain": [
       "<Figure size 200x200 with 1 Axes>"
      ]
     },
     "metadata": {},
     "output_type": "display_data"
    }
   ],
   "source": [
    "fig = plt.figure(figsize=(2,2))\n",
    "plt.hist(predicciones)\n",
    "plt.title('Predicciones de salario RandomForest')"
   ]
  },
  {
   "cell_type": "code",
   "execution_count": 55,
   "id": "6efdf19f",
   "metadata": {},
   "outputs": [],
   "source": [
    "pobre = []\n",
    "for i in range(len(predicciones)):\n",
    "    if predicciones[i] > test_hogares_drop_reg['Lp'][i]:\n",
    "        pobre.append(0)\n",
    "    elif predicciones[i] < test_hogares_drop_reg['Lp'][i]:\n",
    "        pobre.append(1)\n",
    "regression_rf = pd.DataFrame(pobre,test_hogares2['id'])\n",
    "regression_rf.columns=(['pobre'])"
   ]
  },
  {
   "cell_type": "code",
   "execution_count": 93,
   "id": "a9f8249b",
   "metadata": {},
   "outputs": [],
   "source": [
    "regression_rf.to_csv(r'C:\\Users\\JORGE\\Documents\\uniandes-bdml-202320-ps3\\regression_rf.csv')"
   ]
  },
  {
   "cell_type": "markdown",
   "id": "209a262f",
   "metadata": {},
   "source": [
    "# Regresion lineal"
   ]
  },
  {
   "cell_type": "code",
   "execution_count": 75,
   "id": "23be8077",
   "metadata": {},
   "outputs": [],
   "source": [
    "from sklearn.linear_model import LinearRegression\n",
    "lr = LinearRegression()\n",
    "lr.fit(X_train,y_train)\n",
    "predicciones = lr.predict(test_hogares_drop_reg)"
   ]
  },
  {
   "cell_type": "code",
   "execution_count": 76,
   "id": "0b13ac9e",
   "metadata": {},
   "outputs": [],
   "source": [
    "pobre = []\n",
    "for i in range(len(predicciones)):\n",
    "    if predicciones[i] > test_hogares_drop_reg['Lp'][i]:\n",
    "        pobre.append(0)\n",
    "    elif predicciones[i] < test_hogares_drop_reg['Lp'][i]:\n",
    "        pobre.append(1)\n",
    "regression_lr = pd.DataFrame(pobre,test_hogares2['id'])\n",
    "regression_lr.columns=(['pobre'])"
   ]
  },
  {
   "cell_type": "markdown",
   "id": "886f6f5e",
   "metadata": {},
   "source": [
    "### Significancia de los estimadores (Econometria)"
   ]
  },
  {
   "cell_type": "code",
   "execution_count": 78,
   "id": "2bee7251",
   "metadata": {},
   "outputs": [
    {
     "name": "stdout",
     "output_type": "stream",
     "text": [
      "                            OLS Regression Results                            \n",
      "==============================================================================\n",
      "Dep. Variable:                Ingpcug   R-squared:                       0.289\n",
      "Model:                            OLS   Adj. R-squared:                  0.289\n",
      "Method:                 Least Squares   F-statistic:                     2094.\n",
      "Date:                Mon, 04 Dec 2023   Prob (F-statistic):               0.00\n",
      "Time:                        16:46:27   Log-Likelihood:            -2.5210e+06\n",
      "No. Observations:              164960   AIC:                         5.042e+06\n",
      "Df Residuals:                  164927   BIC:                         5.042e+06\n",
      "Df Model:                          32                                         \n",
      "Covariance Type:            nonrobust                                         \n",
      "================================================================================================================\n",
      "                                                   coef    std err          t      P>|t|      [0.025      0.975]\n",
      "----------------------------------------------------------------------------------------------------------------\n",
      "const                                        -9.595e+05   1.58e+05     -6.070      0.000   -1.27e+06    -6.5e+05\n",
      "promedio_edad                                 4339.9165    230.919     18.794      0.000    3887.319    4792.514\n",
      "promedio_experiencia_laboral_ultimo_empleo    2400.5862     69.699     34.442      0.000    2263.978    2537.195\n",
      "numero_hombres                                4.081e+04   3607.401     11.313      0.000    3.37e+04    4.79e+04\n",
      "suma_edades                                  -6.484e+04   8.37e+04     -0.775      0.438   -2.29e+05    9.91e+04\n",
      "numero_graduados                             -4.015e+04   4030.280     -9.961      0.000    -4.8e+04   -3.22e+04\n",
      "suma_experiencia_laboral_ultimo_empleo_hogar  -445.5206     31.473    -14.156      0.000    -507.207    -383.834\n",
      "#_empleados_en                                1.423e+04   1388.483     10.249      0.000    1.15e+04     1.7e+04\n",
      "integrantes_con_horas_extra                   -1.01e+05   1.22e+04     -8.274      0.000   -1.25e+05   -7.71e+04\n",
      "integrantes_con_prima                          3.29e+05   2.83e+04     11.618      0.000    2.73e+05    3.84e+05\n",
      "integrantes_con_bonificaciones                1.982e+05   1.69e+04     11.750      0.000    1.65e+05    2.31e+05\n",
      "horas_trabajadas_hogar                        1826.4933    133.744     13.657      0.000    1564.358    2088.629\n",
      "numero_dee                                   -2.378e+04   4335.719     -5.484      0.000   -3.23e+04   -1.53e+04\n",
      "integrantes_fuente_extra_ingresos              2.05e+05   9343.506     21.939      0.000    1.87e+05    2.23e+05\n",
      "integrantes_con_pago_arriendo/pension         4.347e+05   6474.808     67.143      0.000    4.22e+05    4.47e+05\n",
      "integrantes_edad_trabajar                    -1.314e+05   7301.625    -17.999      0.000   -1.46e+05   -1.17e+05\n",
      "afiliados_contributivo                        2007.4304   8.36e+04      0.024      0.981   -1.62e+05    1.66e+05\n",
      "afiliados_especial                             6.08e+04   8.37e+04      0.726      0.468   -1.03e+05    2.25e+05\n",
      "afiliados_subsidiado                          6.279e+04   8.35e+04      0.752      0.452   -1.01e+05    2.27e+05\n",
      "max_preescolar                                4.823e+04   1.16e+04      4.159      0.000    2.55e+04     7.1e+04\n",
      "max_primaria                                   8.77e+04   1.07e+04      8.204      0.000    6.67e+04    1.09e+05\n",
      "max_secundaria                                2.201e+05   1.64e+04     13.447      0.000    1.88e+05    2.52e+05\n",
      "max_universidad                               4.916e+05   2.18e+04     22.500      0.000    4.49e+05    5.34e+05\n",
      "cotizantes                                     2.06e+05   8300.981     24.816      0.000     1.9e+05    2.22e+05\n",
      "nocotizantes                                 -1.237e+05   6799.818    -18.186      0.000   -1.37e+05    -1.1e+05\n",
      "pensionados                                   5.298e+05   1.43e+04     37.040      0.000    5.02e+05    5.58e+05\n",
      "Clase                                         2.031e+05   4.34e+04      4.675      0.000    1.18e+05    2.88e+05\n",
      "P5000                                         1.715e+05   2870.943     59.722      0.000    1.66e+05    1.77e+05\n",
      "P5010                                        -2.539e+05   4945.667    -51.332      0.000   -2.64e+05   -2.44e+05\n",
      "P5090                                         -4.61e+04   2230.440    -20.667      0.000   -5.05e+04   -4.17e+04\n",
      "Nper                                          6.121e+05   1.55e+04     39.492      0.000    5.82e+05    6.42e+05\n",
      "Npersug                                      -5.756e+05    1.9e+04    -30.355      0.000   -6.13e+05   -5.38e+05\n",
      "Li                                               6.6924      1.035      6.463      0.000       4.663       8.722\n",
      "Lp                                               2.2440      0.446      5.032      0.000       1.370       3.118\n",
      "==============================================================================\n",
      "Omnibus:                   307021.855   Durbin-Watson:                   1.998\n",
      "Prob(Omnibus):                  0.000   Jarque-Bera (JB):       1914102159.464\n",
      "Skew:                          13.543   Prob(JB):                         0.00\n",
      "Kurtosis:                     530.019   Cond. No.                     1.01e+16\n",
      "==============================================================================\n",
      "\n",
      "Notes:\n",
      "[1] Standard Errors assume that the covariance matrix of the errors is correctly specified.\n",
      "[2] The smallest eigenvalue is 1.45e-16. This might indicate that there are\n",
      "strong multicollinearity problems or that the design matrix is singular.\n"
     ]
    }
   ],
   "source": [
    "import statsmodels.api as sm\n",
    "X_train = sm.add_constant(X_train)\n",
    "modelo = sm.OLS(y_train,X_train).fit()\n",
    "print(modelo.summary()) \n",
    "\n",
    "\n"
   ]
  },
  {
   "cell_type": "code",
   "execution_count": 83,
   "id": "c4696364",
   "metadata": {},
   "outputs": [],
   "source": [
    "regression_lr.to_csv(r'C:\\Users\\JORGE\\Documents\\uniandes-bdml-202320-ps3\\regression_lr.csv')"
   ]
  },
  {
   "cell_type": "markdown",
   "id": "868523ac",
   "metadata": {},
   "source": [
    "# normalizando clasificacion"
   ]
  },
  {
   "cell_type": "code",
   "execution_count": 102,
   "id": "9617ad40",
   "metadata": {},
   "outputs": [],
   "source": [
    "train_hogares_norm = train_hogares2.drop(['id','Fex_c', 'Depto','Dominio', 'Fex_dpto','Ingtotug', 'Ingtotugarr', 'Ingpcug','Indigente','Npobres','Nindigentes','P5130','P5140','P5100'], axis=1)\n",
    "test_hogares_norm = test_hogares2.drop(['id','Fex_c', 'Depto', 'Fex_dpto','Dominio','P5130','P5140','P5100'], axis=1)"
   ]
  },
  {
   "cell_type": "code",
   "execution_count": 104,
   "id": "aa351a39",
   "metadata": {},
   "outputs": [],
   "source": [
    "X_train = train_hogares_norm.drop('Pobre',axis=1)\n",
    "y_train = train_hogares_norm['Pobre']"
   ]
  },
  {
   "cell_type": "code",
   "execution_count": 105,
   "id": "96587680",
   "metadata": {},
   "outputs": [],
   "source": [
    "from sklearn.preprocessing import StandardScaler\n",
    "sc = StandardScaler()\n",
    "X_train= sc.fit_transform(X_train)\n",
    "test_hogares_norm = sc.transform(test_hogares_norm)"
   ]
  },
  {
   "cell_type": "code",
   "execution_count": 107,
   "id": "98c24c33",
   "metadata": {},
   "outputs": [
    {
     "name": "stderr",
     "output_type": "stream",
     "text": [
      "C:\\Users\\JORGE\\anaconda3\\Lib\\site-packages\\sklearn\\base.py:457: UserWarning: X has feature names, but RandomForestClassifier was fitted without feature names\n",
      "  warnings.warn(\n"
     ]
    }
   ],
   "source": [
    "rf = RandomForestClassifier(max_depth=10)\n",
    "rf.fit(X_train,y_train)\n",
    "predicciones = rf.predict(test_hogares_drop)"
   ]
  },
  {
   "cell_type": "code",
   "execution_count": 108,
   "id": "05b66313",
   "metadata": {},
   "outputs": [
    {
     "data": {
      "text/html": [
       "<div>\n",
       "<style scoped>\n",
       "    .dataframe tbody tr th:only-of-type {\n",
       "        vertical-align: middle;\n",
       "    }\n",
       "\n",
       "    .dataframe tbody tr th {\n",
       "        vertical-align: top;\n",
       "    }\n",
       "\n",
       "    .dataframe thead th {\n",
       "        text-align: right;\n",
       "    }\n",
       "</style>\n",
       "<table border=\"1\" class=\"dataframe\">\n",
       "  <thead>\n",
       "    <tr style=\"text-align: right;\">\n",
       "      <th></th>\n",
       "      <th>pobre</th>\n",
       "    </tr>\n",
       "    <tr>\n",
       "      <th>id</th>\n",
       "      <th></th>\n",
       "    </tr>\n",
       "  </thead>\n",
       "  <tbody>\n",
       "    <tr>\n",
       "      <th>00007322a7918c7799e7a514</th>\n",
       "      <td>0</td>\n",
       "    </tr>\n",
       "    <tr>\n",
       "      <th>0004847804c0618d4633b196</th>\n",
       "      <td>0</td>\n",
       "    </tr>\n",
       "    <tr>\n",
       "      <th>0004add76858a3b0cc39eb9b</th>\n",
       "      <td>0</td>\n",
       "    </tr>\n",
       "    <tr>\n",
       "      <th>000804ac64d779b35ee5edfa</th>\n",
       "      <td>0</td>\n",
       "    </tr>\n",
       "    <tr>\n",
       "      <th>000b6a116b7f95b043a6e77b</th>\n",
       "      <td>0</td>\n",
       "    </tr>\n",
       "    <tr>\n",
       "      <th>...</th>\n",
       "      <td>...</td>\n",
       "    </tr>\n",
       "    <tr>\n",
       "      <th>fff937c57942f839f144183f</th>\n",
       "      <td>0</td>\n",
       "    </tr>\n",
       "    <tr>\n",
       "      <th>fffb951f761dfc6ee518a862</th>\n",
       "      <td>0</td>\n",
       "    </tr>\n",
       "    <tr>\n",
       "      <th>fffb97493bad434012c34ff2</th>\n",
       "      <td>0</td>\n",
       "    </tr>\n",
       "    <tr>\n",
       "      <th>fffe1f02fa2758a80522d514</th>\n",
       "      <td>0</td>\n",
       "    </tr>\n",
       "    <tr>\n",
       "      <th>ffffd05852760b7f8823f298</th>\n",
       "      <td>0</td>\n",
       "    </tr>\n",
       "  </tbody>\n",
       "</table>\n",
       "<p>66168 rows × 1 columns</p>\n",
       "</div>"
      ],
      "text/plain": [
       "                          pobre\n",
       "id                             \n",
       "00007322a7918c7799e7a514      0\n",
       "0004847804c0618d4633b196      0\n",
       "0004add76858a3b0cc39eb9b      0\n",
       "000804ac64d779b35ee5edfa      0\n",
       "000b6a116b7f95b043a6e77b      0\n",
       "...                         ...\n",
       "fff937c57942f839f144183f      0\n",
       "fffb951f761dfc6ee518a862      0\n",
       "fffb97493bad434012c34ff2      0\n",
       "fffe1f02fa2758a80522d514      0\n",
       "ffffd05852760b7f8823f298      0\n",
       "\n",
       "[66168 rows x 1 columns]"
      ]
     },
     "execution_count": 108,
     "metadata": {},
     "output_type": "execute_result"
    }
   ],
   "source": [
    "predict = pd.DataFrame()\n",
    "predict['id'] = test_hogares2['id']\n",
    "predict['pobre'] = predicciones\n",
    "predict.set_index('id',inplace=True)\n",
    "predict"
   ]
  },
  {
   "cell_type": "code",
   "execution_count": 109,
   "id": "9fe2f263",
   "metadata": {},
   "outputs": [
    {
     "data": {
      "text/plain": [
       "0    65772\n",
       "1      396\n",
       "Name: pobre, dtype: int64"
      ]
     },
     "execution_count": 109,
     "metadata": {},
     "output_type": "execute_result"
    }
   ],
   "source": [
    "predict['pobre'].value_counts()"
   ]
  },
  {
   "cell_type": "code",
   "execution_count": 110,
   "id": "b32fa182",
   "metadata": {},
   "outputs": [],
   "source": [
    "predict.to_csv(r'C:\\Users\\JORGE\\Documents\\uniandes-bdml-202320-ps3\\randomforestnorm_classification.csv')"
   ]
  },
  {
   "cell_type": "markdown",
   "id": "9be3d3d9",
   "metadata": {},
   "source": [
    "# Ecuacion de mincer"
   ]
  },
  {
   "cell_type": "code",
   "execution_count": null,
   "id": "6d64d369",
   "metadata": {},
   "outputs": [],
   "source": [
    "## Suma de edades"
   ]
  },
  {
   "cell_type": "code",
   "execution_count": 79,
   "id": "c3513660",
   "metadata": {},
   "outputs": [],
   "source": [
    "train_hogares_mincer = train_hogares2[['suma_experiencia_laboral_ultimo_empleo_hogar','max_preescolar', 'max_primaria', 'max_secundaria', 'max_universidad','Ingpcug']]\n",
    "test_hogares_mincer = test_hogares2[['suma_experiencia_laboral_ultimo_empleo_hogar','max_preescolar', 'max_primaria', 'max_secundaria', 'max_universidad']]"
   ]
  },
  {
   "cell_type": "code",
   "execution_count": 80,
   "id": "32a8ed91",
   "metadata": {},
   "outputs": [
    {
     "name": "stderr",
     "output_type": "stream",
     "text": [
      "C:\\Users\\JORGE\\AppData\\Local\\Temp\\ipykernel_9276\\2516733013.py:4: SettingWithCopyWarning: \n",
      "A value is trying to be set on a copy of a slice from a DataFrame.\n",
      "Try using .loc[row_indexer,col_indexer] = value instead\n",
      "\n",
      "See the caveats in the documentation: https://pandas.pydata.org/pandas-docs/stable/user_guide/indexing.html#returning-a-view-versus-a-copy\n",
      "  train_hogares_mincer['suma_años_eduacion_hogar']=suma_años_eduacion_hogar\n"
     ]
    }
   ],
   "source": [
    "suma_años_eduacion_hogar = []\n",
    "for i in range(len(train_hogares_mincer)):\n",
    "    suma_años_eduacion_hogar.append(train_hogares_mincer['max_preescolar'][i]*3+train_hogares_mincer['max_primaria'][i]*8+train_hogares_mincer['max_secundaria'][i]*14+train_hogares_mincer['max_universidad'][i]*20)\n",
    "train_hogares_mincer['suma_años_eduacion_hogar']=suma_años_eduacion_hogar"
   ]
  },
  {
   "cell_type": "code",
   "execution_count": 83,
   "id": "453037a2",
   "metadata": {
    "scrolled": true
   },
   "outputs": [
    {
     "name": "stderr",
     "output_type": "stream",
     "text": [
      "C:\\Users\\JORGE\\AppData\\Local\\Temp\\ipykernel_9276\\2574436707.py:4: SettingWithCopyWarning: \n",
      "A value is trying to be set on a copy of a slice from a DataFrame.\n",
      "Try using .loc[row_indexer,col_indexer] = value instead\n",
      "\n",
      "See the caveats in the documentation: https://pandas.pydata.org/pandas-docs/stable/user_guide/indexing.html#returning-a-view-versus-a-copy\n",
      "  test_hogares_mincer['suma_años_eduacion_hogar']=suma_años_eduacion_hogar\n"
     ]
    }
   ],
   "source": [
    "suma_años_eduacion_hogar = []\n",
    "for i in range(len(test_hogares_mincer)):\n",
    "    suma_años_eduacion_hogar.append(test_hogares_mincer['max_preescolar'][i]*3+test_hogares_mincer['max_primaria'][i]*8+test_hogares_mincer['max_secundaria'][i]*14+test_hogares_mincer['max_universidad'][i]*20)\n",
    "test_hogares_mincer['suma_años_eduacion_hogar']=suma_años_eduacion_hogar"
   ]
  },
  {
   "cell_type": "code",
   "execution_count": 85,
   "id": "9fc89e87",
   "metadata": {},
   "outputs": [],
   "source": [
    "X_train = train_hogares_mincer[['suma_experiencia_laboral_ultimo_empleo_hogar','suma_años_eduacion_hogar']].values\n",
    "y_train = train_hogares_mincer['Ingpcug'].values"
   ]
  },
  {
   "cell_type": "code",
   "execution_count": 87,
   "id": "9272f8b5",
   "metadata": {},
   "outputs": [],
   "source": [
    "X_test = test_hogares_mincer[['suma_experiencia_laboral_ultimo_empleo_hogar','suma_años_eduacion_hogar']].values"
   ]
  },
  {
   "cell_type": "code",
   "execution_count": 88,
   "id": "818d81a4",
   "metadata": {},
   "outputs": [
    {
     "name": "stderr",
     "output_type": "stream",
     "text": [
      "C:\\Users\\JORGE\\AppData\\Local\\Temp\\ipykernel_9276\\2026492164.py:4: RuntimeWarning: divide by zero encountered in log\n",
      "  lny.append(np.log(i))\n"
     ]
    }
   ],
   "source": [
    "# convertir salario a log de salario\n",
    "lny = []\n",
    "for i in y_train:\n",
    "    lny.append(np.log(i))"
   ]
  },
  {
   "cell_type": "code",
   "execution_count": 89,
   "id": "b3d10f2f",
   "metadata": {},
   "outputs": [],
   "source": [
    "from sklearn.linear_model import LinearRegression\n",
    "lr = LinearRegression()\n",
    "lr.fit(X_train,y_train)\n",
    "predicciones = lr.predict(X_test)"
   ]
  },
  {
   "cell_type": "code",
   "execution_count": 90,
   "id": "179a262d",
   "metadata": {},
   "outputs": [],
   "source": [
    "pobre = []\n",
    "for i in range(len(predicciones)):\n",
    "    if predicciones[i] > test_hogares_drop_reg['Lp'][i]:\n",
    "        pobre.append(0)\n",
    "    elif predicciones[i] < test_hogares_drop_reg['Lp'][i]:\n",
    "        pobre.append(1)\n",
    "regression_lr = pd.DataFrame(pobre,test_hogares2['id'])\n",
    "regression_lr.columns=(['pobre'])"
   ]
  },
  {
   "cell_type": "code",
   "execution_count": 141,
   "id": "3ca6bcf0",
   "metadata": {},
   "outputs": [],
   "source": [
    "regression_lr.to_csv(r'C:\\Users\\JORGE\\Documents\\uniandes-bdml-202320-ps3\\mincer_regression.csv')"
   ]
  },
  {
   "cell_type": "markdown",
   "id": "1650ea42",
   "metadata": {},
   "source": [
    "### Econometria Mincer"
   ]
  },
  {
   "cell_type": "code",
   "execution_count": 93,
   "id": "3e3b28a3",
   "metadata": {},
   "outputs": [
    {
     "name": "stdout",
     "output_type": "stream",
     "text": [
      "                            OLS Regression Results                            \n",
      "==============================================================================\n",
      "Dep. Variable:                      y   R-squared:                       0.011\n",
      "Model:                            OLS   Adj. R-squared:                  0.011\n",
      "Method:                 Least Squares   F-statistic:                     913.0\n",
      "Date:                Mon, 04 Dec 2023   Prob (F-statistic):               0.00\n",
      "Time:                        17:10:35   Log-Likelihood:            -2.5482e+06\n",
      "No. Observations:              164960   AIC:                         5.096e+06\n",
      "Df Residuals:                  164957   BIC:                         5.096e+06\n",
      "Df Model:                           2                                         \n",
      "Covariance Type:            nonrobust                                         \n",
      "==============================================================================\n",
      "                 coef    std err          t      P>|t|      [0.025      0.975]\n",
      "------------------------------------------------------------------------------\n",
      "const       9.528e+05   6351.508    150.005      0.000     9.4e+05    9.65e+05\n",
      "x1           671.2771     18.603     36.084      0.000     634.816     707.738\n",
      "x2         -4164.1999    137.770    -30.226      0.000   -4434.226   -3894.173\n",
      "==============================================================================\n",
      "Omnibus:                   267485.192   Durbin-Watson:                   1.998\n",
      "Prob(Omnibus):                  0.000   Jarque-Bera (JB):        648782402.732\n",
      "Skew:                          10.230   Prob(JB):                         0.00\n",
      "Kurtosis:                     309.550   Cond. No.                         445.\n",
      "==============================================================================\n",
      "\n",
      "Notes:\n",
      "[1] Standard Errors assume that the covariance matrix of the errors is correctly specified.\n"
     ]
    }
   ],
   "source": [
    "X_train = sm.add_constant(X_train)\n",
    "modelo = sm.OLS(y_train,X_train).fit()\n",
    "print(modelo.summary()) "
   ]
  }
 ],
 "metadata": {
  "kernelspec": {
   "display_name": "Python 3 (ipykernel)",
   "language": "python",
   "name": "python3"
  },
  "language_info": {
   "codemirror_mode": {
    "name": "ipython",
    "version": 3
   },
   "file_extension": ".py",
   "mimetype": "text/x-python",
   "name": "python",
   "nbconvert_exporter": "python",
   "pygments_lexer": "ipython3",
   "version": "3.11.4"
  }
 },
 "nbformat": 4,
 "nbformat_minor": 5
}
